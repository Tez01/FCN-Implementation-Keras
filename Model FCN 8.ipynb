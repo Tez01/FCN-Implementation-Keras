{
 "cells": [
  {
   "cell_type": "code",
   "execution_count": 7,
   "metadata": {},
   "outputs": [],
   "source": [
    "import keras as k\n"
   ]
  },
  {
   "cell_type": "code",
   "execution_count": 9,
   "metadata": {},
   "outputs": [],
   "source": [
    "from keras.layers import Input,Dense,Conv2D,MaxPooling2D,Flatten\n",
    "from keras.models import Model\n",
    "df='channels_first'"
   ]
  },
  {
   "cell_type": "code",
   "execution_count": 1,
   "metadata": {},
   "outputs": [
    {
     "ename": "SyntaxError",
     "evalue": "invalid syntax (<ipython-input-1-c43442e7a937>, line 36)",
     "output_type": "error",
     "traceback": [
      "\u001b[1;36m  File \u001b[1;32m\"<ipython-input-1-c43442e7a937>\"\u001b[1;36m, line \u001b[1;32m36\u001b[0m\n\u001b[1;33m    x=Dense(1000,activation='softmax'name='predictions')(x)\u001b[0m\n\u001b[1;37m                                        ^\u001b[0m\n\u001b[1;31mSyntaxError\u001b[0m\u001b[1;31m:\u001b[0m invalid syntax\n"
     ]
    }
   ],
   "source": [
    "def FCN32(nClasses,h=416,w=608,vgg_level=3):\n",
    "    # Defining Input Layer\n",
    "    x=Input(shape=(3,h,w))\n",
    "    # Adding layers in Block 1\n",
    "    x=Conv2D(64,(3,3),activation='relu',padding='same',name='block1_conv1',data_format=df)(x)\n",
    "    x=Conv2D(64,(3,3),activation='relu',padding='same',name='block1_conv2',data_format=df)(x)\n",
    "    x=MaxPooling2D((2,2),strides=(2,2),name='block1_pool')(x)\n",
    "    f1=x\n",
    "    # Adding layers in Block 2\n",
    "    x=Conv2D(128,(3,3),activation='relu',padding='same',name='block2_conv1',data_format=df)(x)\n",
    "    x=Conv2D(128,(3,3),activation='relu',padding='same',name='block2_conv2',data_format=df)(x)\n",
    "    x=MaxPooling2D((2,2),strides=(2,2),name='block2_pool')\n",
    "    f2=x\n",
    "    # Adding layers in Block 3\n",
    "    x=Conv2D(256,(3,3),activation='relu',padding='same',name='block3_conv1',data_format=df)(x)\n",
    "    x=Conv2D(256,(3,3),activation='relu',padding='same',name='block3_conv2',data_format=df)(x)\n",
    "    x=Conv2D(256,(3,3),activation='relu',padding='same',name='block3_conv3',data_format=df)(x)\n",
    "    x=MaxPooling2D((2,2),strides=(2,2),name='block3_pool',data_format=df)(x)\n",
    "    f3=x\n",
    "    # Adding layers in Block 4\n",
    "    x=Conv2D(512,(3,3),activation='relu',padding='same',name='block4_conv1',data_format=df)(x)\n",
    "    x=Conv2D(512,(3,3),activation='relu',padding='same',name='block4_conv2',data_format=df)(x)\n",
    "    x=Conv2D(512,(3,3),activation='relu',padding='same',name='block4_conv3',data_format=df)(x)\n",
    "    x=MaxPooling2D((2,2),strides=(2,2),name='block4_pool',data_format=df)(x)\n",
    "    f4=x\n",
    "    # Adding Layers in Block 5\n",
    "    x=Conv2D(512,(3,3),activation='relu',padding='same',name='block5_conv1',data_format=df)(x)\n",
    "    x=Conv2D(512,(3,3),activation='relu',padding='same',name='block5_conv2',data_format=df)(x)\n",
    "    x=Conv2D(512,(3,3),activation='relu',padding='same',name='block5_conv3',data_format=df)(x)\n",
    "    x=MaxPooling2D((2,2),strides=(2,2),name='block5_pool',data_format=df)(x)\n",
    "    f5=x\n",
    "    # Flatten Layer\n",
    "    x=Flatten(name='flatten')(x)\n",
    "    x=Dense(4096,activation='relu',name='fc1')(x)\n",
    "    x=Dense(4096,activation='relu',name='fc2')(x)\n",
    "    x=Dense(1000,activation='softmax'name='predictions')(x)\n",
    "    \n",
    "    # Model\n",
    "    vgg=Model(img_input,x)\n",
    "    vgg.load_weights\n",
    "    \n",
    "    out=f5\n",
    "    \n",
    "    out=(Conv2D(4096,(7,7),activation='relu',padding='same',data_format=df))(out)\n",
    "    out=Dropout(0.5)(out)\n",
    "    out=(Conv2D(4096,(1,1),activation='relu',padding='same',data_format=df))(out)\n",
    "    out=Dropout(0.5)(out)\n",
    "    out=(Conv2D(n_classes,(1,1),kernel_initializer='he_normal',data_format=df))(out)\n",
    "    out=Conv2DTranspose(n_classes,kernel_size=(64,64),strides=(32,32),use_bias=False,data_format=df)(out)\n",
    "    o_shape=Model(img_input,out).output_shape\n",
    "    \n",
    "    output_height=o_shape[2]\n",
    "    output_width=o_shape[3]\n",
    "    \n",
    "    print(\"koko\",o_shape)\n",
    "    \n",
    "    out=(Reshape((-1,output_height*output_width)))(out)\n",
    "    out=(Permute((2,1)))(out)\n",
    "    out=(Activation('softmax'))(out)\n",
    "    model=Model(img_input,o)\n",
    "    model.output_height=output_height\n",
    "    model.output_width=output_width\n",
    "    \n",
    "    return model\n",
    "\n",
    "if __name__=='__main__':\n",
    "    m=FCN(32)\n",
    "    from keras.utils import plot_model\n",
    "    plot_model(m,show_shapes=True,to_file='model.png')\n",
    "    \n",
    "    \n",
    "    \n",
    "    \n",
    "    \n",
    "    \n",
    "    \n",
    "    \n",
    "    \n",
    "    \n",
    "    "
   ]
  },
  {
   "cell_type": "code",
   "execution_count": null,
   "metadata": {},
   "outputs": [],
   "source": []
  }
 ],
 "metadata": {
  "kernelspec": {
   "display_name": "Python 3",
   "language": "python",
   "name": "python3"
  },
  "language_info": {
   "codemirror_mode": {
    "name": "ipython",
    "version": 3
   },
   "file_extension": ".py",
   "mimetype": "text/x-python",
   "name": "python",
   "nbconvert_exporter": "python",
   "pygments_lexer": "ipython3",
   "version": "3.6.6"
  }
 },
 "nbformat": 4,
 "nbformat_minor": 2
}
