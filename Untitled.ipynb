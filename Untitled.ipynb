{
 "cells": [
  {
   "cell_type": "code",
   "execution_count": 7,
   "metadata": {},
   "outputs": [],
   "source": [
    "import keras as k\n"
   ]
  },
  {
   "cell_type": "code",
   "execution_count": 9,
   "metadata": {},
   "outputs": [],
   "source": [
    "from keras.layers import Input,Dense,Conv2D,MaxPooling2D,Flatten\n",
    "from keras.models import Model\n",
    "df='channels_first'"
   ]
  },
  {
   "cell_type": "code",
   "execution_count": null,
   "metadata": {},
   "outputs": [],
   "source": [
    "def Fully_Convolutional(nClasses,h=416,w=608,vgg_level=3):\n",
    "    # Defining Input Layer\n",
    "    x=Input(shape=(3,h,w))\n",
    "    # Adding layers in Block 1\n",
    "    x=Conv2D(64,(3,3),activation='relu',padding='same',name='block1_conv1',data_format=df)(x)\n",
    "    x=Conv2D(64,(3,3),activation='relu',padding='same',name='block1_conv2',data_format=df)(x)\n",
    "    x=MaxPooling2D((2,2),strides=(2,2),name='block1_pool')(x)\n",
    "    f1=x\n",
    "    # Adding layers in Block 2\n",
    "    x=Conv2D(128,(3,3),activation='relu',padding='same',name='block2_conv1',data_format=df)(x)\n",
    "    x=Conv2D(128,(3,3),activation='relu',padding='same',name='block2_conv2',data_format=df)(x)\n",
    "    x=MaxPooling2D((2,2),strides=(2,2),name='block2_pool')\n",
    "    f2=x\n",
    "    # Adding layers in Block 3\n",
    "    x=Conv2D(256,(3,3),activation='relu',padding='same',name='block3_conv1',data_format=df)(x)\n",
    "    x=Conv2D(256,(3,3),activation='relu',padding='same',name='block3_conv2',data_format=df)(x)\n",
    "    x=Conv2D(256,(3,3),activation='relu',padding='same',name='block3_conv3',data_format=df)(x)\n",
    "    x=MaxPooling2D((2,2),strides=(2,2),name='block3_pool',data_format=df)(x)\n",
    "    f3=x\n",
    "    # Adding layers in Block 4\n",
    "    x=Conv2D(512,(3,3),activation='relu',padding='same',name='block4_conv1',data_format=df)(x)\n",
    "    x=Conv2D(512,(3,3),activation='relu',padding='same',name='block4_conv2',data_format=df)(x)\n",
    "    x=Conv2D(512,(3,3),activation='relu',padding='same',name='block4_conv3',data_format=df)(x)\n",
    "    x=MaxPooling2D((2,2),strides=(2,2),name='block4_pool',data_format=df)(x)\n",
    "    f4=x\n",
    "    # Adding Layers in Block 5\n",
    "    x=Conv2D(512,(3,3),activation='relu',padding='same',name='block5_conv1',data_format=df)(x)\n",
    "    x=Conv2D(512,(3,3),activation='relu',padding='same',name='block5_conv2',data_format=df)(x)\n",
    "    x=Conv2D(512,(3,3),activation='relu',padding='same',name='block5_conv3',data_format=df)(x)\n",
    "    x=MaxPooling2D((2,2),strides=(2,2),name='block5_pool',data_format=df)(x)\n",
    "    \n",
    "    # Flatten Layer\n",
    "    x=Flatten(name='flatten')(x)\n",
    "    x=Dense(4096,activation='relu',name='fc1')(x)\n",
    "    x=Dense(4096,activation='relu',name='fc2')(x)\n",
    "    x=Dense(1000,activation='softmax'name='predictions')(x)\n",
    "    "
   ]
  }
 ],
 "metadata": {
  "kernelspec": {
   "display_name": "Python 3",
   "language": "python",
   "name": "python3"
  },
  "language_info": {
   "codemirror_mode": {
    "name": "ipython",
    "version": 3
   },
   "file_extension": ".py",
   "mimetype": "text/x-python",
   "name": "python",
   "nbconvert_exporter": "python",
   "pygments_lexer": "ipython3",
   "version": "3.6.6"
  }
 },
 "nbformat": 4,
 "nbformat_minor": 2
}
