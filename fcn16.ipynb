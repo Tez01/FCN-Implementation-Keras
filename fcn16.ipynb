{
 "cells": [
  {
   "cell_type": "code",
   "execution_count": 1,
   "metadata": {},
   "outputs": [
    {
     "name": "stderr",
     "output_type": "stream",
     "text": [
      "Using TensorFlow backend.\n"
     ]
    }
   ],
   "source": [
    "import keras as k\n",
    "import os\n",
    "from keras.utils import *\n"
   ]
  },
  {
   "cell_type": "code",
   "execution_count": 2,
   "metadata": {},
   "outputs": [],
   "source": [
    "from keras.layers import Input,Dense,Conv2D,MaxPooling2D,Flatten,UpSampling2D,Dropout,Conv2DTranspose,Cropping2D,add,Deconvolution2D\n",
    "from keras.models import Model\n",
    "\n",
    "df='channels_last'\n",
    "import tensorflow as tf\n",
    "\n",
    "config = tf.ConfigProto()\n",
    "config.gpu_options.allow_growth = True\n",
    "\n",
    "sess = tf.Session(config=config)"
   ]
  },
  {
   "cell_type": "code",
   "execution_count": 3,
   "metadata": {},
   "outputs": [
    {
     "name": "stdout",
     "output_type": "stream",
     "text": [
      "16 34\n"
     ]
    }
   ],
   "source": [
    "def FCN16(n_classes,h=512,w=512,vgg_level=3):\n",
    "    # Defining Input Layer\n",
    "    inputs=Input(shape=(h,w,3))\n",
    "    # Adding layers in Block 1\n",
    "    x=Conv2D(64,(3,3),activation='relu',padding='same',name='conv1_1',data_format=df)(inputs)\n",
    "    x=Conv2D(64,(3,3),activation='relu',padding='same',name='conv1_2',data_format=df)(x)\n",
    "    x=MaxPooling2D((2,2),strides=(2,2),name='pool1')(x)\n",
    "    f1=x\n",
    "    # Adding layers in Block 2\n",
    "    x=Conv2D(128,(3,3),activation='relu',padding='same',name='conv2_1',data_format=df)(x)\n",
    "    x=Conv2D(128,(3,3),activation='relu',padding='same',name='conv2_2',data_format=df)(x)\n",
    "    x=MaxPooling2D((2,2),strides=(2,2),name='pool2')(x)\n",
    "    f2=x\n",
    "    # Adding layers in Block 3\n",
    "    x=Conv2D(256,(3,3),activation='relu',padding='same',name='conv3_1',data_format=df)(x)\n",
    "    x=Conv2D(256,(3,3),activation='relu',padding='same',name='conv3_2',data_format=df)(x)\n",
    "    x=Conv2D(256,(3,3),activation='relu',padding='same',name='conv3_3',data_format=df)(x)\n",
    "    x=MaxPooling2D((2,2),strides=(2,2),name='pool3',data_format=df)(x)\n",
    "    f3=x\n",
    "    # Adding layers in Block 4\n",
    "    x=Conv2D(512,(3,3),activation='relu',padding='same',name='conv4_1',data_format=df)(x)\n",
    "    x=Conv2D(512,(3,3),activation='relu',padding='same',name='conv4_2',data_format=df)(x)\n",
    "    x=Conv2D(512,(3,3),activation='relu',padding='same',name='conv4_3',data_format=df)(x)\n",
    "    x=MaxPooling2D((2,2),strides=(2,2),name='pool4',data_format=df)(x)\n",
    "    f4=x\n",
    "    # Adding Layers in Block 5\n",
    "    x=Conv2D(512,(3,3),activation='relu',padding='same',name='conv5_1',data_format=df)(x)\n",
    "    x=Conv2D(512,(3,3),activation='relu',padding='same',name='conv5_2',data_format=df)(x)\n",
    "    x=Conv2D(512,(3,3),activation='relu',padding='same',name='conv5_3',data_format=df)(x)\n",
    "    x=MaxPooling2D((2,2),strides=(2,2),name='pool5',data_format=df)(x)\n",
    "    f5=x\n",
    "    \n",
    "    \n",
    "    \n",
    "    \n",
    "    out=f5\n",
    "    \n",
    "    out=(Conv2D(4096,(7,7),activation='relu',padding='same',data_format=df,name='fc6'))(out)\n",
    "    out=Dropout(0.5)(out)\n",
    "    out=(Conv2D(4096,(1,1),activation='relu',padding='same',data_format=df,name='fc7'))(out)\n",
    "    out=Dropout(0.5)(out)\n",
    "    out=(Conv2D(n_classes,(1,1),kernel_initializer='he_normal',data_format=df,name='score_fr'))(out)\n",
    "    out=(Deconvolution2D(n_classes,kernel_size=(4,4),strides=(2,2),padding='valid',activation=None,name='score2',data_format=df))(out)\n",
    "    out=(Cropping2D(cropping=((0,2),(0,2)),data_format=df))(out)\n",
    "   \n",
    "    \n",
    "    \n",
    "    model=Model(inputs,out)\n",
    "    Conv_size=model.layers[-3].output_shape[2]\n",
    "    Deconv_size=model.layers[-2].output_shape[2]\n",
    "    \n",
    "    \n",
    "    print(Conv_size,Deconv_size)\n",
    "    \n",
    "    Extra=Deconv_size-Conv_size\n",
    "    \n",
    "    return model\n",
    "\n",
    "fcn_16=FCN16(21)\n",
    "    \n",
    "\n",
    "    \n",
    "\n",
    "os.environ[\"PATH\"] += os.pathsep + 'C:/Program Files (x86)/Graphviz2.38/bin/'    \n",
    "    \n",
    "    \n",
    "    \n",
    "    \n",
    "    \n",
    "    "
   ]
  },
  {
   "cell_type": "code",
   "execution_count": 4,
   "metadata": {},
   "outputs": [
    {
     "name": "stdout",
     "output_type": "stream",
     "text": [
      "16 34\n",
      "32\n",
      "Tensor(\"pool4_1/MaxPool:0\", shape=(?, 32, 32, 512), dtype=float32)\n",
      "(?, 32, 32, 21)\n"
     ]
    }
   ],
   "source": [
    "def FCN_16_actual(image_size):\n",
    "    fcn_16=FCN16(21)\n",
    "    conv_size=fcn_16.layers[-1].output_shape[2]\n",
    "    print(conv_size)\n",
    "    inp=fcn_16.layers[14].output\n",
    "    print(inp)\n",
    "    x=Conv2D(21,kernel_size=(1,1),padding='same',activation=None,name='score_pool4',data_format=df)(inp)\n",
    "    print(x.shape)\n",
    "    y=fcn_16.layers[-1].output\n",
    "    z=k.layers.add([x,y])\n",
    "    z=Deconvolution2D(21,kernel_size=(32,32),strides = (16,16),padding = \"valid\",activation = None,name = \"upsample_new\",data_format=df)(z)\n",
    "    Deconv_size=(conv_size-1)*16+32\n",
    "    extra_margin=(Deconv_size-conv_size*16)\n",
    "    z=Cropping2D(cropping=((0,extra_margin),(0,extra_margin)),name='Crop2')(z)\n",
    "    model1=Model(fcn_16.input,z)\n",
    "    return model1\n",
    "fcn=FCN_16_actual(512)"
   ]
  },
  {
   "cell_type": "code",
   "execution_count": 5,
   "metadata": {},
   "outputs": [],
   "source": [
    "from keras.utils import plot_model"
   ]
  },
  {
   "cell_type": "code",
   "execution_count": 6,
   "metadata": {},
   "outputs": [],
   "source": [
    "plot_model(fcn_16,to_file=\"FCN.png\",show_shapes=True)"
   ]
  },
  {
   "cell_type": "code",
   "execution_count": null,
   "metadata": {},
   "outputs": [],
   "source": []
  },
  {
   "cell_type": "code",
   "execution_count": 7,
   "metadata": {},
   "outputs": [],
   "source": [
    "weights_path = os.path.expanduser(os.path.join('~', '.keras/models/vgg16_weights_tf_dim_ordering_tf_kernels.h5'))\n"
   ]
  },
  {
   "cell_type": "code",
   "execution_count": null,
   "metadata": {},
   "outputs": [],
   "source": []
  },
  {
   "cell_type": "code",
   "execution_count": 8,
   "metadata": {},
   "outputs": [],
   "source": [
    "#Making image \n",
    "import imghdr\n",
    "from PIL import Image,ImageDraw,ImageFont"
   ]
  },
  {
   "cell_type": "code",
   "execution_count": 9,
   "metadata": {},
   "outputs": [],
   "source": [
    "def preprocess_image(image_path,model_image_size):\n",
    "    imagetype=imghdr.what(img_path)\n",
    "    image=Image.open(image_path)\n",
    "    resized_image=image.resize(tuple(reversed(model_image_size)),Image.BICUBIC)\n",
    "    image_data=np.array(resized_image,dtype='float32')\n",
    "    image_data/=255\n",
    "    return image,image_data\n",
    "    "
   ]
  },
  {
   "cell_type": "code",
   "execution_count": 10,
   "metadata": {},
   "outputs": [],
   "source": [
    "image_path=os.path.expanduser(os.path.join('~', '.keras/models/21.jpg'))"
   ]
  },
  {
   "cell_type": "code",
   "execution_count": 11,
   "metadata": {},
   "outputs": [],
   "source": [
    "im=Image.open(image_path)\n",
    "\n",
    "im=im.resize((512,512))\n"
   ]
  },
  {
   "cell_type": "code",
   "execution_count": 12,
   "metadata": {},
   "outputs": [],
   "source": [
    "from skimage.io import  imread,imsave\n",
    "import matplotlib.pyplot as plt\n",
    "%matplotlib inline\n",
    "import numpy as np"
   ]
  },
  {
   "cell_type": "code",
   "execution_count": 13,
   "metadata": {},
   "outputs": [
    {
     "name": "stdout",
     "output_type": "stream",
     "text": [
      "(512, 512, 3)\n"
     ]
    },
    {
     "data": {
      "image/png": "[encoded data removed]",
      "text/plain": [
       "<Figure size 432x288 with 1 Axes>"
      ]
     },
     "metadata": {},
     "output_type": "display_data"
    }
   ],
   "source": [
    "plt.imshow(im)\n",
    "print(np.asarray(im).shape)"
   ]
  },
  {
   "cell_type": "code",
   "execution_count": 14,
   "metadata": {},
   "outputs": [
    {
     "name": "stdout",
     "output_type": "stream",
     "text": [
      "[[[ 52.  64.  52.]\n",
      "  [ 50.  62.  50.]\n",
      "  [ 48.  60.  50.]\n",
      "  ...\n",
      "  [113. 143. 169.]\n",
      "  [111. 141. 167.]\n",
      "  [108. 138. 164.]]\n",
      "\n",
      " [[ 47.  59.  47.]\n",
      "  [ 47.  59.  47.]\n",
      "  [ 48.  60.  50.]\n",
      "  ...\n",
      "  [115. 145. 169.]\n",
      "  [112. 142. 166.]\n",
      "  [110. 140. 164.]]\n",
      "\n",
      " [[ 47.  59.  47.]\n",
      "  [ 47.  59.  47.]\n",
      "  [ 48.  60.  50.]\n",
      "  ...\n",
      "  [115. 145. 169.]\n",
      "  [112. 142. 166.]\n",
      "  [110. 140. 164.]]\n",
      "\n",
      " ...\n",
      "\n",
      " [[161. 163. 160.]\n",
      "  [178. 180. 177.]\n",
      "  [186. 188. 185.]\n",
      "  ...\n",
      "  [141. 146. 142.]\n",
      "  [145. 150. 146.]\n",
      "  [155. 160. 156.]]\n",
      "\n",
      " [[161. 163. 160.]\n",
      "  [178. 180. 177.]\n",
      "  [186. 188. 185.]\n",
      "  ...\n",
      "  [141. 146. 142.]\n",
      "  [145. 150. 146.]\n",
      "  [155. 160. 156.]]\n",
      "\n",
      " [[147. 149. 146.]\n",
      "  [160. 162. 159.]\n",
      "  [163. 165. 162.]\n",
      "  ...\n",
      "  [174. 176. 171.]\n",
      "  [177. 179. 174.]\n",
      "  [187. 189. 184.]]]\n"
     ]
    }
   ],
   "source": [
    "imarr=np.array(im).astype(np.float32)\n",
    "imarr.shape\n",
    "print(imarr)"
   ]
  },
  {
   "cell_type": "code",
   "execution_count": 15,
   "metadata": {},
   "outputs": [],
   "source": [
    "from scipy.io import loadmat\n",
    "path=os.path.expanduser(os.path.join('~', '.keras/models/pascal-fcn16s-dag'))\n",
    "data = loadmat(path, matlab_compatible=False, struct_as_record=False)\n"
   ]
  },
  {
   "cell_type": "code",
   "execution_count": 16,
   "metadata": {},
   "outputs": [
    {
     "data": {
      "text/plain": [
       "array([[array(['background'], dtype='<U10'),\n",
       "        array(['aeroplane'], dtype='<U9'),\n",
       "        array(['bicycle'], dtype='<U7'), array(['bird'], dtype='<U4'),\n",
       "        array(['boat'], dtype='<U4'), array(['bottle'], dtype='<U6'),\n",
       "        array(['bus'], dtype='<U3'), array(['car'], dtype='<U3'),\n",
       "        array(['cat'], dtype='<U3'), array(['chair'], dtype='<U5'),\n",
       "        array(['cow'], dtype='<U3'),\n",
       "        array(['diningtable'], dtype='<U11'),\n",
       "        array(['dog'], dtype='<U3'), array(['horse'], dtype='<U5'),\n",
       "        array(['motorbike'], dtype='<U9'),\n",
       "        array(['person'], dtype='<U6'),\n",
       "        array(['pottedplant'], dtype='<U11'),\n",
       "        array(['sheep'], dtype='<U5'), array(['sofa'], dtype='<U4'),\n",
       "        array(['train'], dtype='<U5'), array(['tvmonitor'], dtype='<U9')]],\n",
       "      dtype=object)"
      ]
     },
     "execution_count": 16,
     "metadata": {},
     "output_type": "execute_result"
    }
   ],
   "source": [
    "data.keys()\n",
    "layers=data['layers']\n",
    "params=data['params']\n",
    "description=data['meta'][0,0].classes[0,0].description\n",
    "description\n"
   ]
  },
  {
   "cell_type": "code",
   "execution_count": 17,
   "metadata": {},
   "outputs": [
    {
     "name": "stdout",
     "output_type": "stream",
     "text": [
      "['aeroplane', 'background', 'bicycle', 'bird', 'boat', 'bottle', 'bus', 'car', 'cat', 'chair', 'cow', 'diningtable', 'dog', 'horse', 'motorbike', 'person', 'pottedplant', 'sheep', 'sofa', 'train', 'tvmonitor']\n"
     ]
    }
   ],
   "source": [
    "class2index = {}\n",
    "for i, clname in enumerate(description[0,:]):\n",
    "    class2index[str(clname[0])] = i\n",
    "    \n",
    "print(sorted(class2index.keys()))"
   ]
  },
  {
   "cell_type": "code",
   "execution_count": 18,
   "metadata": {},
   "outputs": [],
   "source": [
    "def copy_mat_to_keras(kmodel):\n",
    "    \n",
    "    kerasnames = [lr.name for lr in kmodel.layers]\n",
    "\n",
    "    prmt = (0, 1, 2, 3) # WARNING : important setting as 2 of the 4 axis have same size dimension\n",
    "    \n",
    "    for i in range(0, params.shape[1]-1, 2):\n",
    "        matname = '_'.join(params[0,i].name[0].split('_')[0:-1])\n",
    "        if matname in kerasnames:\n",
    "            kindex = kerasnames.index(matname)\n",
    "            print('found : ', (str(matname), kindex))\n",
    "            l_weights = params[0,i].value\n",
    "            l_bias = params[0,i+1].value\n",
    "            f_l_weights = l_weights.transpose(prmt)\n",
    "            if False: # WARNING : this depends on \"image_data_format\":\"channels_last\" in keras.json file\n",
    "                f_l_weights = np.flip(f_l_weights, 0)\n",
    "                f_l_weights = np.flip(f_l_weights, 1)\n",
    "            print(f_l_weights.shape, kmodel.layers[kindex].get_weights()[0].shape)\n",
    "            assert (f_l_weights.shape == kmodel.layers[kindex].get_weights()[0].shape)\n",
    "            assert (l_bias.shape[1] == 1)\n",
    "            assert (l_bias[:,0].shape == kmodel.layers[kindex].get_weights()[1].shape)\n",
    "            assert (len(kmodel.layers[kindex].get_weights()) == 2)\n",
    "            kmodel.layers[kindex].set_weights([f_l_weights, l_bias[:,0]])\n",
    "        else:\n",
    "            print('not found : ', str(matname))"
   ]
  },
  {
   "cell_type": "code",
   "execution_count": 19,
   "metadata": {},
   "outputs": [
    {
     "name": "stdout",
     "output_type": "stream",
     "text": [
      "found :  ('conv1_1', 1)\n",
      "(3, 3, 3, 64) (3, 3, 3, 64)\n",
      "found :  ('conv1_2', 2)\n",
      "(3, 3, 64, 64) (3, 3, 64, 64)\n",
      "found :  ('conv2_1', 4)\n",
      "(3, 3, 64, 128) (3, 3, 64, 128)\n",
      "found :  ('conv2_2', 5)\n",
      "(3, 3, 128, 128) (3, 3, 128, 128)\n",
      "found :  ('conv3_1', 7)\n",
      "(3, 3, 128, 256) (3, 3, 128, 256)\n",
      "found :  ('conv3_2', 8)\n",
      "(3, 3, 256, 256) (3, 3, 256, 256)\n",
      "found :  ('conv3_3', 9)\n",
      "(3, 3, 256, 256) (3, 3, 256, 256)\n",
      "found :  ('conv4_1', 11)\n",
      "(3, 3, 256, 512) (3, 3, 256, 512)\n",
      "found :  ('conv4_2', 12)\n",
      "(3, 3, 512, 512) (3, 3, 512, 512)\n",
      "found :  ('conv4_3', 13)\n",
      "(3, 3, 512, 512) (3, 3, 512, 512)\n",
      "found :  ('conv5_1', 15)\n",
      "(3, 3, 512, 512) (3, 3, 512, 512)\n",
      "found :  ('conv5_2', 16)\n",
      "(3, 3, 512, 512) (3, 3, 512, 512)\n",
      "found :  ('conv5_3', 17)\n",
      "(3, 3, 512, 512) (3, 3, 512, 512)\n",
      "found :  ('fc6', 19)\n",
      "(7, 7, 512, 4096) (7, 7, 512, 4096)\n",
      "found :  ('fc7', 21)\n",
      "(1, 1, 4096, 4096) (1, 1, 4096, 4096)\n",
      "found :  ('score_fr', 23)\n",
      "(1, 1, 4096, 21) (1, 1, 4096, 21)\n",
      "found :  ('score2', 24)\n",
      "(4, 4, 21, 21) (4, 4, 21, 21)\n",
      "found :  ('score_pool4', 25)\n",
      "(1, 1, 512, 21) (1, 1, 512, 21)\n",
      "found :  ('upsample_new', 28)\n",
      "(32, 32, 21, 21) (32, 32, 21, 21)\n"
     ]
    }
   ],
   "source": [
    "\n",
    "copy_mat_to_keras(fcn)"
   ]
  },
  {
   "cell_type": "code",
   "execution_count": 20,
   "metadata": {},
   "outputs": [],
   "source": [
    "imarr=np.expand_dims(imarr,axis=0)"
   ]
  },
  {
   "cell_type": "code",
   "execution_count": 21,
   "metadata": {},
   "outputs": [],
   "source": [
    "fcn.load_weights(weights_path,by_name=True)"
   ]
  },
  {
   "cell_type": "code",
   "execution_count": 22,
   "metadata": {},
   "outputs": [],
   "source": [
    "preds=fcn.predict(imarr)"
   ]
  },
  {
   "cell_type": "code",
   "execution_count": 23,
   "metadata": {},
   "outputs": [
    {
     "name": "stdout",
     "output_type": "stream",
     "text": [
      "(1, 512, 512, 21)\n"
     ]
    }
   ],
   "source": [
    "print(preds.shape)"
   ]
  },
  {
   "cell_type": "code",
   "execution_count": 24,
   "metadata": {},
   "outputs": [
    {
     "name": "stdout",
     "output_type": "stream",
     "text": [
      "[[18 18 18 ... 18 18 18]\n",
      " [18 18 18 ... 18 18 18]\n",
      " [18 18 18 ... 18 18 18]\n",
      " ...\n",
      " [ 0  0  0 ...  0  0  0]\n",
      " [ 0  0  0 ...  0  0  0]\n",
      " [ 0  0  0 ...  0  0  0]]\n"
     ]
    }
   ],
   "source": [
    "imclass=np.argmax(preds,axis=3)[0,:,:]\n",
    "print(imclass)"
   ]
  },
  {
   "cell_type": "code",
   "execution_count": 25,
   "metadata": {},
   "outputs": [
    {
     "data": {
      "text/plain": [
       "<matplotlib.image.AxesImage at 0x26b6f5ced30>"
      ]
     },
     "execution_count": 25,
     "metadata": {},
     "output_type": "execute_result"
    },
    {
     "data": {
      "image/png": "[encoded data removed]",
      "text/plain": [
       "<Figure size 432x288 with 1 Axes>"
      ]
     },
     "metadata": {},
     "output_type": "display_data"
    }
   ],
   "source": [
    "\n",
    "plt.imshow(imclass,alpha=0.5)\n",
    "\n",
    "masked_class=np.ma.masked_where(imclass==0,imclass)\n",
    "plt.imshow(masked_class,alpha=0.5)"
   ]
  },
  
  {
   "cell_type": "code",
   "execution_count": null,
   "metadata": {},
   "outputs": [],
   "source": [
    "import \"https://github.com/mprat/pascal-voc-python/blob/master/voc_utils/voc_utils.py\""
   ]
  },
  {
   "cell_type": "code",
   "execution_count": 8,
   "metadata": {},
   "outputs": [
    {
     "name": "stdout",
     "output_type": "stream",
     "text": [
      "\n",
      "c:\\users\\hp\\appdata\\local\\programs\\python\\python36\\python36.zip\n",
      "c:\\users\\hp\\appdata\\local\\programs\\python\\python36\\DLLs\n",
      "c:\\users\\hp\\appdata\\local\\programs\\python\\python36\\lib\n",
      "c:\\users\\hp\\appdata\\local\\programs\\python\\python36\n",
      "C:\\Users\\Hp\\AppData\\Roaming\\Python\\Python36\\site-packages\n",
      "c:\\users\\hp\\appdata\\local\\programs\\python\\python36\\lib\\site-packages\n",
      "c:\\users\\hp\\appdata\\local\\programs\\python\\python36\\lib\\site-packages\\voc_utils-0.0-py3.6.egg\n",
      "c:\\users\\hp\\appdata\\local\\programs\\python\\python36\\lib\\site-packages\\more_itertools-4.3.0-py3.6.egg\n",
      "c:\\users\\hp\\appdata\\local\\programs\\python\\python36\\lib\\site-packages\\beautifulsoup4-4.3.2-py3.6.egg\n",
      "c:\\users\\hp\\appdata\\local\\programs\\python\\python36\\lib\\site-packages\\IPython\\extensions\n",
      "C:\\Users\\Hp\\.ipython\n"
     ]
    }
   ],
   "source": [
    "import sys\n",
    ">>> type(sys.path)\n",
    "\n",
    ">>> for path in sys.path:\n",
    "...     print(path)"
   ]
  },
  {
   "cell_type": "code",
   "execution_count": 9,
   "metadata": {},
   "outputs": [],
   "source": [
    "sys.path.append('C:/Users/Hp/kerascontrib/keras_contrib/datasets')"
   ]
  },
  {
   "cell_type": "code",
   "execution_count": 10,
   "metadata": {},
   "outputs": [
    {
     "name": "stderr",
     "output_type": "stream",
     "text": [
      "Using TensorFlow backend.\n"
     ]
    }
   ],
   "source": [
    "import pascal_voc as p"
   ]
  },
  {
   "cell_type": "code",
   "execution_count": null,
   "metadata": {},
   "outputs": [],
   "source": []
  },
  {
   "cell_type": "code",
   "execution_count": 11,
   "metadata": {},
   "outputs": [
    {
     "data": {
      "text/plain": [
       "{0: 'background',\n",
       " 1: 'aeroplane',\n",
       " 2: 'bicycle',\n",
       " 3: 'bird',\n",
       " 4: 'boat',\n",
       " 5: 'bottle',\n",
       " 6: 'bus',\n",
       " 7: 'car',\n",
       " 8: 'cat',\n",
       " 9: 'chair',\n",
       " 10: 'cow',\n",
       " 11: 'diningtable',\n",
       " 12: 'dog',\n",
       " 13: 'horse',\n",
       " 14: 'motorbike',\n",
       " 15: 'person',\n",
       " 16: 'potted-plant',\n",
       " 17: 'sheep',\n",
       " 18: 'sofa',\n",
       " 19: 'train',\n",
       " 20: 'tv/monitor',\n",
       " 255: 'ambigious'}"
      ]
     },
     "execution_count": 11,
     "metadata": {},
     "output_type": "execute_result"
    }
   ],
   "source": [
    "p.pascal_segmentation_lut()"
   ]
  },
  {
   "cell_type": "code",
   "execution_count": 15,
   "metadata": {},
   "outputs": [],
   "source": [
    "pascal_root='C:/Users/Hp/.keras/datasets/VOC2012/VOCdevkit/VOC2012'"
   ]
  },
  {
   "cell_type": "code",
   "execution_count": 16,
   "metadata": {},
   "outputs": [
    {
     "data": {
      "text/plain": [
       "['C:/Users/Hp/.keras/datasets/VOC2012/VOCdevkit/VOC2012\\\\ImageSets/Segmentation\\\\train.txt',\n",
       " 'C:/Users/Hp/.keras/datasets/VOC2012/VOCdevkit/VOC2012\\\\ImageSets/Segmentation\\\\val.txt',\n",
       " 'C:/Users/Hp/.keras/datasets/VOC2012/VOCdevkit/VOC2012\\\\ImageSets/Segmentation\\\\trainval.txt']"
      ]
     },
     "execution_count": 16,
     "metadata": {},
     "output_type": "execute_result"
    }
   ],
   "source": [
    "p.get_pascal_segmentation_images_lists_txts(pascal_root)"
   ]
  },
  {
   "cell_type": "code",
   "execution_count": 17,
   "metadata": {},
   "outputs": [
    {
     "ename": "PermissionError",
     "evalue": "[Errno 13] Permission denied: 'C:/Users/Hp/.keras/datasets/VOC2012/VOCdevkit/VOC2012'",
     "output_type": "error",
     "traceback": [
      "\u001b[1;31m---------------------------------------------------------------------------\u001b[0m",
      "\u001b[1;31mPermissionError\u001b[0m                           Traceback (most recent call last)",
      "\u001b[1;32m<ipython-input-17-235ae2f54db3>\u001b[0m in \u001b[0;36m<module>\u001b[1;34m()\u001b[0m\n\u001b[1;32m----> 1\u001b[1;33m \u001b[0mp\u001b[0m\u001b[1;33m.\u001b[0m\u001b[0mreadlines_with_strip\u001b[0m\u001b[1;33m(\u001b[0m\u001b[0mpascal_root\u001b[0m\u001b[1;33m)\u001b[0m\u001b[1;33m\u001b[0m\u001b[0m\n\u001b[0m",
      "\u001b[1;32mC:/Users/Hp/kerascontrib/keras_contrib/datasets\\pascal_voc.py\u001b[0m in \u001b[0;36mreadlines_with_strip\u001b[1;34m(filename)\u001b[0m\n\u001b[0;32m    133\u001b[0m \u001b[1;33m\u001b[0m\u001b[0m\n\u001b[0;32m    134\u001b[0m     \u001b[1;31m# Get raw filnames from the file\u001b[0m\u001b[1;33m\u001b[0m\u001b[1;33m\u001b[0m\u001b[0m\n\u001b[1;32m--> 135\u001b[1;33m     \u001b[1;32mwith\u001b[0m \u001b[0mopen\u001b[0m\u001b[1;33m(\u001b[0m\u001b[0mfilename\u001b[0m\u001b[1;33m,\u001b[0m \u001b[1;34m'r'\u001b[0m\u001b[1;33m)\u001b[0m \u001b[1;32mas\u001b[0m \u001b[0mf\u001b[0m\u001b[1;33m:\u001b[0m\u001b[1;33m\u001b[0m\u001b[0m\n\u001b[0m\u001b[0;32m    136\u001b[0m         \u001b[0mlines\u001b[0m \u001b[1;33m=\u001b[0m \u001b[0mf\u001b[0m\u001b[1;33m.\u001b[0m\u001b[0mreadlines\u001b[0m\u001b[1;33m(\u001b[0m\u001b[1;33m)\u001b[0m\u001b[1;33m\u001b[0m\u001b[0m\n\u001b[0;32m    137\u001b[0m \u001b[1;33m\u001b[0m\u001b[0m\n",
      "\u001b[1;31mPermissionError\u001b[0m: [Errno 13] Permission denied: 'C:/Users/Hp/.keras/datasets/VOC2012/VOCdevkit/VOC2012'"
     ]
    }
   ],
   "source": [
    "p.readlines_with_strip(pascal_root)"
   ]
  },
  {
   "cell_type": "code",
   "execution_count": 19,
   "metadata": {},
   "outputs": [],
   "source": [
    "arr=p.get_pascal_segmentation_image_annotation_filenames_pairs(pascal_root)\n",
    "\n"
   ]
  },
  {
   "cell_type": "code",
   "execution_count": null,
   "metadata": {},
   "outputs": [],
   "source": []
  },
  {
   "cell_type": "code",
   "execution_count": null,
   "metadata": {},
   "outputs": [],
   "source": []
  }
 ],
 "metadata": {
  "kernelspec": {
   "display_name": "Python 3",
   "language": "python",
   "name": "python3"
  }
 },
 "nbformat": 4,
 "nbformat_minor": 2
}
