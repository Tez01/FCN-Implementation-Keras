{
 "cells": [
  {
   "cell_type": "code",
   "execution_count": 1,
   "metadata": {},
   "outputs": [
    {
     "name": "stderr",
     "output_type": "stream",
     "text": [
      "Using TensorFlow backend.\n"
     ]
    }
   ],
   "source": [
    "import keras as k\n",
    "import os\n",
    "from keras.utils import *\n"
   ]
  },
  {
   "cell_type": "code",
   "execution_count": 2,
   "metadata": {},
   "outputs": [],
   "source": [
    "from keras.layers import Input,Dense,Conv2D,MaxPooling2D,Flatten,UpSampling2D,Dropout,Conv2DTranspose,Cropping2D\n",
    "from keras.models import Model\n",
    "\n",
    "df='channels_first'"
   ]
  },
  {
   "cell_type": "code",
   "execution_count": 3,
   "metadata": {},
   "outputs": [
    {
     "name": "stdout",
     "output_type": "stream",
     "text": [
      "34 32\n"
     ]
    }
   ],
   "source": [
    "def FCN16(n_classes,h=512,w=512,vgg_level=3):\n",
    "    # Defining Input Layer\n",
    "    inputs=Input(shape=(3,h,w))\n",
    "    # Adding layers in Block 1\n",
    "    x=Conv2D(64,(3,3),activation='relu',padding='same',name='block1_conv1',data_format=df)(inputs)\n",
    "    x=Conv2D(64,(3,3),activation='relu',padding='same',name='block1_conv2',data_format=df)(x)\n",
    "    x=MaxPooling2D((2,2),strides=(2,2),name='block1_pool')(x)\n",
    "    f1=x\n",
    "    # Adding layers in Block 2\n",
    "    x=Conv2D(128,(3,3),activation='relu',padding='same',name='block2_conv1',data_format=df)(x)\n",
    "    x=Conv2D(128,(3,3),activation='relu',padding='same',name='block2_conv2',data_format=df)(x)\n",
    "    x=MaxPooling2D((2,2),strides=(2,2),name='block2_pool')(x)\n",
    "    f2=x\n",
    "    # Adding layers in Block 3\n",
    "    x=Conv2D(256,(3,3),activation='relu',padding='same',name='block3_conv1',data_format=df)(x)\n",
    "    x=Conv2D(256,(3,3),activation='relu',padding='same',name='block3_conv2',data_format=df)(x)\n",
    "    x=Conv2D(256,(3,3),activation='relu',padding='same',name='block3_conv3',data_format=df)(x)\n",
    "    x=MaxPooling2D((2,2),strides=(2,2),name='block3_pool',data_format=df)(x)\n",
    "    f3=x\n",
    "    # Adding layers in Block 4\n",
    "    x=Conv2D(512,(3,3),activation='relu',padding='same',name='block4_conv1',data_format=df)(x)\n",
    "    x=Conv2D(512,(3,3),activation='relu',padding='same',name='block4_conv2',data_format=df)(x)\n",
    "    x=Conv2D(512,(3,3),activation='relu',padding='same',name='block4_conv3',data_format=df)(x)\n",
    "    x=MaxPooling2D((2,2),strides=(2,2),name='block4_pool',data_format=df)(x)\n",
    "    f4=x\n",
    "    # Adding Layers in Block 5\n",
    "    x=Conv2D(512,(3,3),activation='relu',padding='same',name='block5_conv1',data_format=df)(x)\n",
    "    x=Conv2D(512,(3,3),activation='relu',padding='same',name='block5_conv2',data_format=df)(x)\n",
    "    x=Conv2D(512,(3,3),activation='relu',padding='same',name='block5_conv3',data_format=df)(x)\n",
    "    x=MaxPooling2D((2,2),strides=(2,2),name='block5_pool',data_format=df)(x)\n",
    "    f5=x\n",
    "    \n",
    "    \n",
    "    \n",
    "    \n",
    "    out=f5\n",
    "    \n",
    "    out=(Conv2D(4096,(7,7),activation='relu',padding='same',data_format=df))(out)\n",
    "    out=Dropout(0.5)(out)\n",
    "    out=(Conv2D(4096,(1,1),activation='relu',padding='same',data_format=df))(out)\n",
    "    out=Dropout(0.5)(out)\n",
    "    out=(Conv2D(n_classes,(1,1),kernel_initializer='he_normal',data_format=df))(out)\n",
    "    out=(Conv2DTranspose(n_classes,kernel_size=(4,4),strides=(2,2),padding='valid',activation=None,name='score_2',data_format=df))(out)\n",
    "    out=(Cropping2D(cropping=((0,2),(0,2))))(out)\n",
    "   \n",
    "    \n",
    "    \n",
    "    model=Model(inputs,out)\n",
    "    Conv_size=model.layers[-2].output_shape[2]\n",
    "    Deconv_size=model.layers[-1].output_shape[2]\n",
    "    \n",
    "    \n",
    "    print(Conv_size,Deconv_size)\n",
    "    \n",
    "    Extra=Deconv_size-Conv_size\n",
    "    \n",
    "    return model\n",
    "\n",
    "\n",
    "    \n",
    "fcn_16=FCN16(21)\n",
    "    \n",
    "\n",
    "os.environ[\"PATH\"] += os.pathsep + 'C:/Program Files (x86)/Graphviz2.38/bin/'    \n",
    "    \n",
    "    \n",
    "    \n",
    "    \n",
    "    \n",
    "    "
   ]
  },
  {
   "cell_type": "code",
   "execution_count": 4,
   "metadata": {},
   "outputs": [],
   "source": [
    "from keras.utils import plot_model"
   ]
  },
  {
   "cell_type": "code",
   "execution_count": 5,
   "metadata": {},
   "outputs": [],
   "source": [
    "plot_model(fcn_16,to_file=\"FCN.png\",show_shapes=True)"
   ]
  },
  {
   "cell_type": "code",
   "execution_count": null,
   "metadata": {},
   "outputs": [],
   "source": []
  },
  {
   "cell_type": "code",
   "execution_count": 6,
   "metadata": {},
   "outputs": [],
   "source": [
    "weights_path = os.path.expanduser(os.path.join('~', '.keras/models/vgg16_weights.h5'))\n"
   ]
  },
  {
   "cell_type": "code",
   "execution_count": 7,
   "metadata": {},
   "outputs": [],
   "source": [
    "fcn_16.load_weights(weights_path, by_name=True)"
   ]
  },
  {
   "cell_type": "code",
   "execution_count": null,
   "metadata": {},
   "outputs": [],
   "source": []
  },
  {
   "cell_type": "code",
   "execution_count": null,
   "metadata": {},
   "outputs": [],
   "source": []
  },
  {
   "cell_type": "code",
   "execution_count": null,
   "metadata": {},
   "outputs": [],
   "source": []
  }
 ],
 "metadata": {
  "kernelspec": {
   "display_name": "Python 3",
   "language": "python",
   "name": "python3"
  },
  "language_info": {
   "codemirror_mode": {
    "name": "ipython",
    "version": 3
   },
   "file_extension": ".py",
   "mimetype": "text/x-python",
   "name": "python",
   "nbconvert_exporter": "python",
   "pygments_lexer": "ipython3",
   "version": "3.6.6"
  }
 },
 "nbformat": 4,
 "nbformat_minor": 2
}
