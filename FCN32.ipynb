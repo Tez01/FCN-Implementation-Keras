{
 "cells": [
  {
   "cell_type": "code",
   "execution_count": 5,
   "metadata": {},
   "outputs": [
    {
     "name": "stderr",
     "output_type": "stream",
     "text": [
      "Using TensorFlow backend.\n"
     ]
    }
   ],
   "source": [
    "import keras as k\n"
   ]
  },
  {
   "cell_type": "code",
   "execution_count": 12,
   "metadata": {},
   "outputs": [],
   "source": [
    "from keras.layers import Input,Dense,Conv2D,MaxPooling2D,Flatten,UpSampling2D,Dropout\n",
    "from keras.models import Model\n",
    "df='channels_first'"
   ]
  },
  {
   "cell_type": "code",
   "execution_count": 23,
   "metadata": {},
   "outputs": [
    {
     "name": "stdout",
     "output_type": "stream",
     "text": [
      "_________________________________________________________________\n",
      "Layer (type)                 Output Shape              Param #   \n",
      "=================================================================\n",
      "input_11 (InputLayer)        (None, 3, 416, 608)       0         \n",
      "_________________________________________________________________\n",
      "block1_conv1 (Conv2D)        (None, 64, 416, 608)      1792      \n",
      "_________________________________________________________________\n",
      "block1_conv2 (Conv2D)        (None, 64, 416, 608)      36928     \n",
      "_________________________________________________________________\n",
      "block1_pool (MaxPooling2D)   (None, 32, 208, 608)      0         \n",
      "_________________________________________________________________\n",
      "block2_conv1 (Conv2D)        (None, 128, 208, 608)     36992     \n",
      "_________________________________________________________________\n",
      "block2_conv2 (Conv2D)        (None, 128, 208, 608)     147584    \n",
      "_________________________________________________________________\n",
      "block2_pool (MaxPooling2D)   (None, 64, 104, 608)      0         \n",
      "_________________________________________________________________\n",
      "block3_conv1 (Conv2D)        (None, 256, 104, 608)     147712    \n",
      "_________________________________________________________________\n",
      "block3_conv2 (Conv2D)        (None, 256, 104, 608)     590080    \n",
      "_________________________________________________________________\n",
      "block3_conv3 (Conv2D)        (None, 256, 104, 608)     590080    \n",
      "_________________________________________________________________\n",
      "block3_pool (MaxPooling2D)   (None, 256, 52, 304)      0         \n",
      "_________________________________________________________________\n",
      "block4_conv1 (Conv2D)        (None, 512, 52, 304)      1180160   \n",
      "_________________________________________________________________\n",
      "block4_conv2 (Conv2D)        (None, 512, 52, 304)      2359808   \n",
      "_________________________________________________________________\n",
      "block4_conv3 (Conv2D)        (None, 512, 52, 304)      2359808   \n",
      "_________________________________________________________________\n",
      "block4_pool (MaxPooling2D)   (None, 512, 26, 152)      0         \n",
      "_________________________________________________________________\n",
      "block5_conv1 (Conv2D)        (None, 512, 26, 152)      2359808   \n",
      "_________________________________________________________________\n",
      "block5_conv2 (Conv2D)        (None, 512, 26, 152)      2359808   \n",
      "_________________________________________________________________\n",
      "block5_conv3 (Conv2D)        (None, 512, 26, 152)      2359808   \n",
      "_________________________________________________________________\n",
      "block5_pool (MaxPooling2D)   (None, 512, 13, 76)       0         \n",
      "_________________________________________________________________\n",
      "conv2d_21 (Conv2D)           (None, 4096, 13, 76)      102764544 \n",
      "_________________________________________________________________\n",
      "dropout_15 (Dropout)         (None, 4096, 13, 76)      0         \n",
      "_________________________________________________________________\n",
      "conv2d_22 (Conv2D)           (None, 4096, 13, 76)      16781312  \n",
      "_________________________________________________________________\n",
      "dropout_16 (Dropout)         (None, 4096, 13, 76)      0         \n",
      "_________________________________________________________________\n",
      "chiku (Conv2D)               (None, 21, 13, 76)        86037     \n",
      "_________________________________________________________________\n",
      "up_sampling2d_2 (UpSampling2 (None, 21, 416, 2432)     0         \n",
      "=================================================================\n",
      "Total params: 134,162,261\n",
      "Trainable params: 134,162,261\n",
      "Non-trainable params: 0\n",
      "_________________________________________________________________\n",
      "None\n"
     ]
    },
    {
     "data": {
      "text/plain": [
       "<keras.engine.training.Model at 0x14ef95c50b8>"
      ]
     },
     "execution_count": 23,
     "metadata": {},
     "output_type": "execute_result"
    }
   ],
   "source": [
    "def FCN32(n_classes,h=416,w=608,vgg_level=3):\n",
    "    # Defining Input Layer\n",
    "    inputs=Input(shape=(3,h,w))\n",
    "    # Adding layers in Block 1\n",
    "    x=Conv2D(64,(3,3),activation='relu',padding='same',name='block1_conv1',data_format=df)(inputs)\n",
    "    x=Conv2D(64,(3,3),activation='relu',padding='same',name='block1_conv2',data_format=df)(x)\n",
    "    x=MaxPooling2D((2,2),strides=(2,2),name='block1_pool')(x)\n",
    "    f1=x\n",
    "    # Adding layers in Block 2\n",
    "    x=Conv2D(128,(3,3),activation='relu',padding='same',name='block2_conv1',data_format=df)(x)\n",
    "    x=Conv2D(128,(3,3),activation='relu',padding='same',name='block2_conv2',data_format=df)(x)\n",
    "    x=MaxPooling2D((2,2),strides=(2,2),name='block2_pool')(x)\n",
    "    f2=x\n",
    "    # Adding layers in Block 3\n",
    "    x=Conv2D(256,(3,3),activation='relu',padding='same',name='block3_conv1',data_format=df)(x)\n",
    "    x=Conv2D(256,(3,3),activation='relu',padding='same',name='block3_conv2',data_format=df)(x)\n",
    "    x=Conv2D(256,(3,3),activation='relu',padding='same',name='block3_conv3',data_format=df)(x)\n",
    "    x=MaxPooling2D((2,2),strides=(2,2),name='block3_pool',data_format=df)(x)\n",
    "    f3=x\n",
    "    # Adding layers in Block 4\n",
    "    x=Conv2D(512,(3,3),activation='relu',padding='same',name='block4_conv1',data_format=df)(x)\n",
    "    x=Conv2D(512,(3,3),activation='relu',padding='same',name='block4_conv2',data_format=df)(x)\n",
    "    x=Conv2D(512,(3,3),activation='relu',padding='same',name='block4_conv3',data_format=df)(x)\n",
    "    x=MaxPooling2D((2,2),strides=(2,2),name='block4_pool',data_format=df)(x)\n",
    "    f4=x\n",
    "    # Adding Layers in Block 5\n",
    "    x=Conv2D(512,(3,3),activation='relu',padding='same',name='block5_conv1',data_format=df)(x)\n",
    "    x=Conv2D(512,(3,3),activation='relu',padding='same',name='block5_conv2',data_format=df)(x)\n",
    "    x=Conv2D(512,(3,3),activation='relu',padding='same',name='block5_conv3',data_format=df)(x)\n",
    "    x=MaxPooling2D((2,2),strides=(2,2),name='block5_pool',data_format=df)(x)\n",
    "    f5=x\n",
    "    \n",
    "    \n",
    "    \n",
    "    \n",
    "    out=f5\n",
    "    \n",
    "    out=(Conv2D(4096,(7,7),activation='relu',padding='same',data_format=df))(out)\n",
    "    out=Dropout(0.5)(out)\n",
    "    out=(Conv2D(4096,(1,1),activation='relu',padding='same',data_format=df))(out)\n",
    "    out=Dropout(0.5)(out)\n",
    "    out=(Conv2D(n_classes,(1,1),kernel_initializer='he_normal',data_format=df))(out)\n",
    "    out=(UpSampling2D(size=(32,32),data_format=df))(out)\n",
    "    \n",
    "    \n",
    "    model=Model(inputs,out) \n",
    "    print(model.summary())\n",
    "    \n",
    "    \n",
    "    return model\n",
    "\n",
    "\n",
    "    \n",
    "FCN32(21)   \n",
    "    \n",
    "    \n",
    "    \n",
    "    \n",
    "    \n",
    "    \n",
    "    \n",
    "    "
   ]
  },
  {
   "cell_type": "code",
   "execution_count": null,
   "metadata": {},
   "outputs": [],
   "source": []
  },
  {
   "cell_type": "code",
   "execution_count": null,
   "metadata": {},
   "outputs": [],
   "source": []
  }
 ],
 "metadata": {
  "kernelspec": {
   "display_name": "Python 3",
   "language": "python",
   "name": "python3"
  },
  "language_info": {
   "codemirror_mode": {
    "name": "ipython",
    "version": 3
   },
   "file_extension": ".py",
   "mimetype": "text/x-python",
   "name": "python",
   "nbconvert_exporter": "python",
   "pygments_lexer": "ipython3",
   "version": "3.6.6"
  }
 },
 "nbformat": 4,
 "nbformat_minor": 2
}
